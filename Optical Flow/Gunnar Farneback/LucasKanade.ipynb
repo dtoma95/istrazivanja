{
 "cells": [
  {
   "cell_type": "markdown",
   "metadata": {},
   "source": [
    "# Lucas-Kanade Optical flow calculation"
   ]
  },
  {
   "cell_type": "markdown",
   "metadata": {},
   "source": [
    "## import libraries"
   ]
  },
  {
   "cell_type": "code",
   "execution_count": 131,
   "metadata": {},
   "outputs": [],
   "source": [
    "import numpy as np\n",
    "from scipy import signal\n",
    "import matplotlib.image as img\n",
    "import matplotlib.pyplot as plt\n",
    "import cv2"
   ]
  },
  {
   "cell_type": "markdown",
   "metadata": {},
   "source": [
    "## Lucas-Kanade function"
   ]
  },
  {
   "cell_type": "code",
   "execution_count": 183,
   "metadata": {},
   "outputs": [],
   "source": [
    "def optical_flow(I1g, I2g, window_size, tau=1e-2):\n",
    " \n",
    "    kernel_x = np.array([[-1., 1.], [-1., 1.]])\n",
    "    kernel_y = np.array([[-1., -1.], [1., 1.]])\n",
    "    kernel_t = np.array([[1., 1.], [1., 1.]])#*.25\n",
    "    w = window_size/2 # window_size is odd, all the pixels with offset in between [-w, w] are inside the window\n",
    "    I1g = I1g / 255. # normalize pixels\n",
    "    I2g = I2g / 255. # normalize pixels\n",
    "    # Implement Lucas Kanade\n",
    "    # for each point, calculate I_x, I_y, I_t\n",
    "    mode = 'same'\n",
    "    fx = signal.convolve2d(I1g, kernel_x, boundary='symm', mode=mode)\n",
    "    fy = signal.convolve2d(I1g, kernel_y, boundary='symm', mode=mode)\n",
    "    ft = signal.convolve2d(I2g, kernel_t, boundary='symm', mode=mode) + signal.convolve2d(I1g, -kernel_t, boundary='symm', mode=mode)\n",
    "    u = np.zeros(I1g.shape)\n",
    "    v = np.zeros(I1g.shape)\n",
    "    # within window window_size * window_size\n",
    "    w = int(w)\n",
    "    for i in range(w, I1g.shape[0]-w):\n",
    "        for j in range(w, I1g.shape[1]-w):\n",
    "            Ix = fx[i-w:i+w+1, j-w:j+w+1].flatten()\n",
    "            Iy = fy[i-w:i+w+1, j-w:j+w+1].flatten()\n",
    "            It = ft[i-w:i+w+1, j-w:j+w+1].flatten()\n",
    "           \n",
    "            #b = ... # get b here\n",
    "            #S = ... # get S here\n",
    "            \"\"\"\n",
    "            S = np.array([Ix, Iy]).T\n",
    "            #print(S.shape)\n",
    "            t = It\n",
    "            STS = np.matmul(S.T,S)\n",
    "            eigenvalues = np.linalg.eigvals(STS)\n",
    "            # if threshold τ is larger than the smallest eigenvalue of A'A:\n",
    "            if np.min(abs(eigenvalues)) >= tau:\n",
    "                STSinv = np.linalg.inv(np.matmul(S.T,S)) # get velocity here\n",
    "                V = np.matmul(np.matmul(STSinv, S.T), t)\n",
    "                u[i,j] = V[0]\n",
    "                v[i,j] = V[1]\n",
    "            # else leave zeros\n",
    "            \"\"\"\n",
    "            b = np.reshape(It, (It.shape[0],1)) # get b here\n",
    "            A = np.vstack((Ix, Iy)).T # get A here\n",
    "\n",
    "            if np.min(abs(np.linalg.eigvals(np.matmul(A.T, A)))) >= tau:\n",
    "                nu = np.matmul(np.linalg.pinv(A), b) # get velocity here\n",
    "                u[i,j]=nu[0]\n",
    "                v[i,j]=nu[1]\n",
    "            \n",
    " \n",
    "    return (u,v)"
   ]
  },
  {
   "cell_type": "markdown",
   "metadata": {},
   "source": [
    "# convert image to greyscale"
   ]
  },
  {
   "cell_type": "code",
   "execution_count": 165,
   "metadata": {},
   "outputs": [],
   "source": [
    "def togreyscale(I):\n",
    "    if len(I.shape) < 3:\n",
    "        return I\n",
    "    num_channel = I.shape[2]\n",
    "    if num_channel == 3:\n",
    "        retval = np.mean(I, axis=2)\n",
    "    return retval\n",
    "    "
   ]
  },
  {
   "cell_type": "markdown",
   "metadata": {},
   "source": [
    "# visualize optical flow"
   ]
  },
  {
   "cell_type": "code",
   "execution_count": 174,
   "metadata": {},
   "outputs": [],
   "source": [
    "def drawOpticalFlow(u, v):\n",
    "    #u = u/np.max(u) * 255\n",
    "    #v = v/np.max(v) * 255\n",
    "    B = np.zeros(u.shape)\n",
    "    retval = np.dstack((u, v, B))\n",
    "\n",
    "\n",
    "    return retval\n",
    "\n",
    "    "
   ]
  },
  {
   "cell_type": "markdown",
   "metadata": {},
   "source": [
    "# results"
   ]
  },
  {
   "cell_type": "markdown",
   "metadata": {},
   "source": [
    "___"
   ]
  },
  {
   "cell_type": "code",
   "execution_count": 199,
   "metadata": {},
   "outputs": [
    {
     "name": "stdout",
     "output_type": "stream",
     "text": [
      "3.458334043012222\n",
      "(256, 256) (256, 256)\n"
     ]
    },
    {
     "data": {
      "image/png": "[encoded data removed]",
      "text/plain": [
       "<Figure size 432x288 with 1 Axes>"
      ]
     },
     "metadata": {
      "needs_background": "light"
     },
     "output_type": "display_data"
    }
   ],
   "source": [
    "DATA_TYPE = \"squareFrame\"\n",
    "\n",
    "I1 = img.imread('data/' + DATA_TYPE + '1.png')\n",
    "I2 = img.imread('data/' + DATA_TYPE + '2.png')\n",
    "\n",
    "\n",
    "\n",
    "I1g = togreyscale(I1)\n",
    "I2g = togreyscale(I2)\n",
    "\n",
    "if (I1g.shape != I2g.shape):\n",
    "    print(I1g.shape, I2g.shape)\n",
    "    I2g = cv2.resize(I2g, I1g.shape)\n",
    "\n",
    "\n",
    "plt.imshow(I1g-I2g, cmap='gray')\n",
    "\n",
    "u, v = optical_flow(I1g, I2g, 4, tau=0)\n",
    "print(np.max(u))\n",
    "print(u.shape, v.shape)"
   ]
  },
  {
   "cell_type": "code",
   "execution_count": 200,
   "metadata": {},
   "outputs": [
    {
     "name": "stderr",
     "output_type": "stream",
     "text": [
      "Clipping input data to the valid range for imshow with RGB data ([0..1] for floats or [0..255] for integers).\n"
     ]
    },
    {
     "name": "stdout",
     "output_type": "stream",
     "text": [
      "(256, 256, 3)\n"
     ]
    },
    {
     "data": {
      "image/png": "[encoded data removed]",
      "text/plain": [
       "<Figure size 432x288 with 1 Axes>"
      ]
     },
     "metadata": {
      "needs_background": "light"
     },
     "output_type": "display_data"
    }
   ],
   "source": [
    "result = drawOpticalFlow(u, v)\n",
    "\n",
    "plt.imshow(I1)\n",
    "\n",
    "plt.imshow(I2)\n",
    "plt.imshow(result)\n",
    "print(result.shape)"
   ]
  }
 ],
 "metadata": {
  "interpreter": {
   "hash": "681a98495f9d82ec394b48148abb22f37da3ac9460bd92ffea30badadc1cba7f"
  },
  "kernelspec": {
   "display_name": "Python 3.10.2 64-bit",
   "language": "python",
   "name": "python3"
  },
  "language_info": {
   "codemirror_mode": {
    "name": "ipython",
    "version": 3
   },
   "file_extension": ".py",
   "mimetype": "text/x-python",
   "name": "python",
   "nbconvert_exporter": "python",
   "pygments_lexer": "ipython3",
   "version": "3.10.2"
  }
 },
 "nbformat": 4,
 "nbformat_minor": 2
}
